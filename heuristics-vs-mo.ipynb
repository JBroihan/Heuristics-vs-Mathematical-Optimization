{
 "cells": [
  {
   "attachments": {},
   "cell_type": "markdown",
   "metadata": {},
   "source": [
    "# Heuristics vs Mathematical Optimization Using the Transport Model"
   ]
  },
  {
   "cell_type": "code",
   "execution_count": 982,
   "metadata": {},
   "outputs": [],
   "source": [
    "import pandas as pd\n",
    "import numpy as np\n",
    "import random\n",
    "from faker import Faker\n",
    "import plotly.figure_factory as ff"
   ]
  },
  {
   "attachments": {},
   "cell_type": "markdown",
   "metadata": {},
   "source": [
    "## Data"
   ]
  },
  {
   "attachments": {},
   "cell_type": "markdown",
   "metadata": {},
   "source": [
    "#### Working seeds to obtain different OFVs\n",
    "- 3 & 14\n",
    "- 5 & 14"
   ]
  },
  {
   "cell_type": "code",
   "execution_count": 983,
   "metadata": {},
   "outputs": [],
   "source": [
    "np.random.seed(5)\n",
    "random.seed(14)\n",
    "fake = Faker('en_US')\n",
    "n_plants = 3\n",
    "n_markets = 3"
   ]
  },
  {
   "cell_type": "code",
   "execution_count": 984,
   "metadata": {},
   "outputs": [],
   "source": [
    "def generate_demands(markets):\n",
    "    df = pd.DataFrame({\n",
    "        'Markets': [fake.city() for n in range(markets)],\n",
    "        'Demand': [random.randint(1, 8) * 100 for n in range(markets)]\n",
    "    })\n",
    "    return df"
   ]
  },
  {
   "cell_type": "code",
   "execution_count": 985,
   "metadata": {},
   "outputs": [],
   "source": [
    "capacity = pd.DataFrame({\n",
    "    'Canning Plants': [fake.city() for n in range(n_plants)],\n",
    "    'Capacity': [random.randint(1, 10) * 100 for n in range(n_plants)]\n",
    "})\n",
    "\n",
    "demand = generate_demands(n_markets)\n",
    "while capacity['Capacity'].sum() < demand['Demand'].sum():\n",
    "    demand = generate_demands(n_markets)\n",
    "\n",
    "distance = pd.DataFrame(\n",
    "    (np.random.rand(n_plants, n_markets) * 10).round(1), \n",
    "    index=capacity['Canning Plants'], columns=demand['Markets'])"
   ]
  },
  {
   "cell_type": "code",
   "execution_count": 986,
   "metadata": {},
   "outputs": [
    {
     "data": {
      "text/html": [
       "<div>\n",
       "<style scoped>\n",
       "    .dataframe tbody tr th:only-of-type {\n",
       "        vertical-align: middle;\n",
       "    }\n",
       "\n",
       "    .dataframe tbody tr th {\n",
       "        vertical-align: top;\n",
       "    }\n",
       "\n",
       "    .dataframe thead th {\n",
       "        text-align: right;\n",
       "    }\n",
       "</style>\n",
       "<table border=\"1\" class=\"dataframe\">\n",
       "  <thead>\n",
       "    <tr style=\"text-align: right;\">\n",
       "      <th>Markets</th>\n",
       "      <th>Carrollhaven</th>\n",
       "      <th>Bowmanville</th>\n",
       "      <th>South Lori</th>\n",
       "    </tr>\n",
       "    <tr>\n",
       "      <th>Canning Plants</th>\n",
       "      <th></th>\n",
       "      <th></th>\n",
       "      <th></th>\n",
       "    </tr>\n",
       "  </thead>\n",
       "  <tbody>\n",
       "    <tr>\n",
       "      <th>Port Danielhaven</th>\n",
       "      <td>2.2</td>\n",
       "      <td>8.7</td>\n",
       "      <td>2.1</td>\n",
       "    </tr>\n",
       "    <tr>\n",
       "      <th>Lake Alexis</th>\n",
       "      <td>9.2</td>\n",
       "      <td>4.9</td>\n",
       "      <td>6.1</td>\n",
       "    </tr>\n",
       "    <tr>\n",
       "      <th>Brooksborough</th>\n",
       "      <td>7.7</td>\n",
       "      <td>5.2</td>\n",
       "      <td>3.0</td>\n",
       "    </tr>\n",
       "  </tbody>\n",
       "</table>\n",
       "</div>"
      ],
      "text/plain": [
       "Markets           Carrollhaven  Bowmanville  South Lori\n",
       "Canning Plants                                         \n",
       "Port Danielhaven           2.2          8.7         2.1\n",
       "Lake Alexis                9.2          4.9         6.1\n",
       "Brooksborough              7.7          5.2         3.0"
      ]
     },
     "execution_count": 986,
     "metadata": {},
     "output_type": "execute_result"
    }
   ],
   "source": [
    "distance"
   ]
  },
  {
   "cell_type": "code",
   "execution_count": 987,
   "metadata": {},
   "outputs": [],
   "source": [
    "# capacity = pd.DataFrame({\n",
    "#     'Canning Plants': ['Seattle', 'San-Diego'],\n",
    "#     'Capacity': [400, 500]\n",
    "# })\n",
    "\n",
    "# demand = pd.DataFrame({\n",
    "#     'Markets': ['New-York', 'Chicago', 'Topeka'],\n",
    "#     'Demand': [325, 300, 275]\n",
    "# })\n",
    "\n",
    "# distance = pd.DataFrame(np.array([[2.5, 1.7, 1.8],  [2.5, 1.8, 1.4]]), index=capacity['Canning Plants'], columns=demand['Markets'])"
   ]
  },
  {
   "cell_type": "code",
   "execution_count": 988,
   "metadata": {},
   "outputs": [
    {
     "data": {
      "text/html": [
       "<div>\n",
       "<style scoped>\n",
       "    .dataframe tbody tr th:only-of-type {\n",
       "        vertical-align: middle;\n",
       "    }\n",
       "\n",
       "    .dataframe tbody tr th {\n",
       "        vertical-align: top;\n",
       "    }\n",
       "\n",
       "    .dataframe thead th {\n",
       "        text-align: right;\n",
       "    }\n",
       "</style>\n",
       "<table border=\"1\" class=\"dataframe\">\n",
       "  <thead>\n",
       "    <tr style=\"text-align: right;\">\n",
       "      <th>Markets</th>\n",
       "      <th>Carrollhaven</th>\n",
       "      <th>Bowmanville</th>\n",
       "      <th>South Lori</th>\n",
       "    </tr>\n",
       "    <tr>\n",
       "      <th>Canning Plants</th>\n",
       "      <th></th>\n",
       "      <th></th>\n",
       "      <th></th>\n",
       "    </tr>\n",
       "  </thead>\n",
       "  <tbody>\n",
       "    <tr>\n",
       "      <th>Port Danielhaven</th>\n",
       "      <td>0.198</td>\n",
       "      <td>0.783</td>\n",
       "      <td>0.189</td>\n",
       "    </tr>\n",
       "    <tr>\n",
       "      <th>Lake Alexis</th>\n",
       "      <td>0.828</td>\n",
       "      <td>0.441</td>\n",
       "      <td>0.549</td>\n",
       "    </tr>\n",
       "    <tr>\n",
       "      <th>Brooksborough</th>\n",
       "      <td>0.693</td>\n",
       "      <td>0.468</td>\n",
       "      <td>0.270</td>\n",
       "    </tr>\n",
       "  </tbody>\n",
       "</table>\n",
       "</div>"
      ],
      "text/plain": [
       "Markets           Carrollhaven  Bowmanville  South Lori\n",
       "Canning Plants                                         \n",
       "Port Danielhaven         0.198        0.783       0.189\n",
       "Lake Alexis              0.828        0.441       0.549\n",
       "Brooksborough            0.693        0.468       0.270"
      ]
     },
     "execution_count": 988,
     "metadata": {},
     "output_type": "execute_result"
    }
   ],
   "source": [
    "freight_cost = 90\n",
    "\n",
    "transport_cost = freight_cost * distance / 1000\n",
    "\n",
    "transport_cost"
   ]
  },
  {
   "attachments": {},
   "cell_type": "markdown",
   "metadata": {},
   "source": [
    "## Heuristic"
   ]
  },
  {
   "attachments": {},
   "cell_type": "markdown",
   "metadata": {},
   "source": [
    "- Sort transport cost from i to j in ascending order\n",
    "- Select the combination of i and j with the lowest transportation cost\n",
    "- Check if market j has unsatisfied demands \n",
    "- If j has unsatisfied demands, transport as much as possible from i to j \n",
    "- Select the next combination of i and j with lowest transportation cost\n",
    "- Proceed until all demands are satisfied"
   ]
  },
  {
   "cell_type": "code",
   "execution_count": 989,
   "metadata": {},
   "outputs": [
    {
     "name": "stdout",
     "output_type": "stream",
     "text": [
      "Ship 200 cases from Port Danielhaven to South Lori at 37.8 cost.\n",
      "Ship 300 cases from Brooksborough to South Lori at 81.0 cost.\n",
      "Ship 500 cases from Lake Alexis to Bowmanville at 220.5 cost.\n",
      "Ship 400 cases from Brooksborough to Carrollhaven at 277.2 cost.\n",
      "Leftover capacities {'Port Danielhaven': 0, 'Lake Alexis': 500, 'Brooksborough': 200}\n",
      "Leftover demands {'Carrollhaven': 0, 'Bowmanville': 0, 'South Lori': 0}\n",
      "Total cost 616.5\n"
     ]
    }
   ],
   "source": [
    "total_cost = 0\n",
    "\n",
    "sorted = transport_cost.unstack().sort_values(ascending=True)\n",
    "\n",
    "current_demand = demand.set_index('Markets').to_dict()['Demand']\n",
    "current_capacity = capacity.set_index('Canning Plants').to_dict()['Capacity']\n",
    "\n",
    "for (j,i) in sorted.index:\n",
    "    if current_demand[j] > 0:\n",
    "        if current_capacity[i] >= current_demand[j]:\n",
    "            ship = current_demand[j]\n",
    "            current_demand[j] = 0\n",
    "            current_capacity[i] -= ship\n",
    "            total_cost += sorted[j,i] * ship\n",
    "            print(f'Ship {ship} cases from {i} to {j} at {round(sorted[j,i] * ship, 2)} cost.')\n",
    "        elif current_capacity[i] > 0:\n",
    "            ship = current_capacity[i]\n",
    "            current_capacity[i] = 0    \n",
    "            current_demand[j] -= ship\n",
    "            total_cost += sorted[j,i] * ship\n",
    "            print(f'Ship {ship} cases from {i} to {j} at {round(sorted[j,i] * ship, 2)} cost.')\n",
    "        # print(j, i, sorted[j,i])\n",
    "# sorted\n",
    "print('Leftover capacities', current_capacity)\n",
    "print('Leftover demands', current_demand)\n",
    "print('Total cost', total_cost)"
   ]
  },
  {
   "attachments": {},
   "cell_type": "markdown",
   "metadata": {},
   "source": [
    "## Mathematical Modeling"
   ]
  },
  {
   "cell_type": "code",
   "execution_count": 990,
   "metadata": {},
   "outputs": [],
   "source": [
    "%reload_ext gams.magic"
   ]
  },
  {
   "cell_type": "code",
   "execution_count": 991,
   "metadata": {},
   "outputs": [],
   "source": [
    "import gams.transfer as gt"
   ]
  },
  {
   "cell_type": "code",
   "execution_count": 992,
   "metadata": {},
   "outputs": [],
   "source": [
    "%gams_reset\n",
    "m = gams.exchange_container\n",
    "\n",
    "# create sets\n",
    "i = m.addSet('i', records=capacity['Canning Plants'], description='canning plants')\n",
    "j = m.addSet('j', records=demand['Markets'], description='markets')\n",
    "\n",
    "# create parameters\n",
    "a = m.addParameter('a', [i], records=capacity, description='capacity of plant i in cases')\n",
    "b = m.addParameter('b', [j], records=demand, description='demand at market j in cases')\n",
    "c = m.addParameter('c', [i,j], records=transport_cost.unstack().reset_index()[['Canning Plants', 'Markets', 0]], description='transport cost in thousands of dollars per case')\n",
    "\n",
    "# create variables\n",
    "Z = m.addVariable('Z', description='total transportation costs in thousands of dollars')\n",
    "X = m.addVariable('X', domain=[i,j], type='positive', description='shipment quantities in cases')"
   ]
  },
  {
   "cell_type": "code",
   "execution_count": 993,
   "metadata": {},
   "outputs": [
    {
     "data": {
      "text/html": [
       "<div>\n",
       "<style scoped>\n",
       "    .dataframe tbody tr th:only-of-type {\n",
       "        vertical-align: middle;\n",
       "    }\n",
       "\n",
       "    .dataframe tbody tr th {\n",
       "        vertical-align: top;\n",
       "    }\n",
       "\n",
       "    .dataframe thead th {\n",
       "        text-align: right;\n",
       "    }\n",
       "</style>\n",
       "<table border=\"1\" class=\"dataframe\">\n",
       "  <thead>\n",
       "    <tr style=\"text-align: right;\">\n",
       "      <th></th>\n",
       "      <th>Solver Status</th>\n",
       "      <th>Model Status</th>\n",
       "      <th>Objective</th>\n",
       "      <th>#equ</th>\n",
       "      <th>#var</th>\n",
       "      <th>Model Type</th>\n",
       "      <th>Solver</th>\n",
       "      <th>Solver Time</th>\n",
       "    </tr>\n",
       "  </thead>\n",
       "  <tbody>\n",
       "    <tr>\n",
       "      <th>0</th>\n",
       "      <td>Normal (1)</td>\n",
       "      <td>Optimal Global (1)</td>\n",
       "      <td>533.7</td>\n",
       "      <td>7</td>\n",
       "      <td>10</td>\n",
       "      <td>LP</td>\n",
       "      <td>CPLEX</td>\n",
       "      <td>0</td>\n",
       "    </tr>\n",
       "  </tbody>\n",
       "</table>\n",
       "</div>"
      ],
      "text/plain": [
       "  Solver Status        Model Status  Objective #equ #var Model Type Solver  \\\n",
       "0    Normal (1)  Optimal Global (1)      533.7    7   10         LP  CPLEX   \n",
       "\n",
       "  Solver Time  \n",
       "0           0  "
      ]
     },
     "execution_count": 993,
     "metadata": {},
     "output_type": "execute_result"
    }
   ],
   "source": [
    "%%gams\n",
    "Equations\n",
    "     cost        define objective function\n",
    "     supply(i)   observe supply limit at plant i\n",
    "     demand(j)   satisfy demand at market j ;\n",
    "\n",
    "cost ..        z  =e=  sum((i,j), c(i,j)*X(i,j)) ;\n",
    "supply(i) ..   sum(j, X(i,j))  =l=  a(i) ;\n",
    "demand(j) ..   sum(i, X(i,j))  =g=  b(j) ;\n",
    "\n",
    "Model transport /all/ ;\n",
    "\n",
    "Solve transport using LP minimizing z ;"
   ]
  },
  {
   "cell_type": "code",
   "execution_count": 994,
   "metadata": {},
   "outputs": [],
   "source": [
    "opt_total_cost = Z.records['level'][0]"
   ]
  },
  {
   "attachments": {},
   "cell_type": "markdown",
   "metadata": {},
   "source": [
    "## Compare"
   ]
  },
  {
   "cell_type": "code",
   "execution_count": 1004,
   "metadata": {},
   "outputs": [
    {
     "name": "stdout",
     "output_type": "stream",
     "text": [
      "Using the heuristic approach the total cost evaluates to 616.5.\n",
      "Using the optimization approach the total cost evaluates to 533.7.\n",
      "Thus, optimization reduces the cost of transportation by 13.43 %.\n"
     ]
    }
   ],
   "source": [
    "if round(total_cost, 1) != round(opt_total_cost, 1):\n",
    "    print(f'Using the heuristic approach the total cost evaluates to {round(total_cost, 1)}.')\n",
    "    print(f'Using the optimization approach the total cost evaluates to {round(opt_total_cost, 1)}.')\n",
    "    print(f'Thus, optimization reduces the cost of transportation by {round((total_cost - opt_total_cost) / total_cost * 100, 2)} %.')"
   ]
  }
 ],
 "metadata": {
  "kernelspec": {
   "display_name": "gams",
   "language": "python",
   "name": "python3"
  },
  "language_info": {
   "codemirror_mode": {
    "name": "ipython",
    "version": 3
   },
   "file_extension": ".py",
   "mimetype": "text/x-python",
   "name": "python",
   "nbconvert_exporter": "python",
   "pygments_lexer": "ipython3",
   "version": "3.10.9"
  },
  "orig_nbformat": 4
 },
 "nbformat": 4,
 "nbformat_minor": 2
}
