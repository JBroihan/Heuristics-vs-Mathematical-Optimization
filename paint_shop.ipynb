{
 "cells": [
  {
   "attachments": {},
   "cell_type": "markdown",
   "metadata": {},
   "source": [
    "# Heuristics vs Mathematical Optimization Using the Binary Paintshop Problem\n",
    "- In car manufacturing one of the final production steps is painting.\n",
    "- Multiple cars of different types (A to D) arrive in a given sequence at the paintshop.\n",
    " ![sequence](car_sequence.png)\n",
    "- The cars have to be painted with a base coat that is either white or black (here referred to as red or blue).\n",
    "- The demand for white and black colors for a given car type is also given.\n",
    "\n",
    "This problem can be simplified to a minimal working example:\n",
    "- In the sequence of cars arriving at the paintshop each vehicle type arrives exactly twice.\n",
    "- One car of each vehicle type has to be painted white, the other one has to be painted black.\n",
    "\n",
    "As changing colors requires time and produces waist, the goal is to minimize the number of color changes with respect to the constraint of coloring one car white and one black for each vehicle type.\n",
    "\n",
    "This problem can be solved both heuristically or with a mathematical optimization approach."
   ]
  },
  {
   "cell_type": "code",
   "execution_count": 1,
   "metadata": {},
   "outputs": [],
   "source": [
    "# Install dependencies\n",
    "! pip install -q gamspy"
   ]
  },
  {
   "cell_type": "code",
   "execution_count": 2,
   "metadata": {},
   "outputs": [],
   "source": [
    "import random\n",
    "random.seed(16)"
   ]
  },
  {
   "cell_type": "markdown",
   "metadata": {},
   "source": [
    "## Data"
   ]
  },
  {
   "cell_type": "code",
   "execution_count": 3,
   "metadata": {},
   "outputs": [],
   "source": [
    "# n_types = 6\n",
    "# types = list(string.ascii_uppercase)[:n_types]\n",
    "# sequence = random.sample(types, counts=[2 for n in range(n_types)], k=n_types * 2)\n",
    "# sequence"
   ]
  },
  {
   "cell_type": "code",
   "execution_count": 4,
   "metadata": {},
   "outputs": [
    {
     "data": {
      "text/plain": [
       "6"
      ]
     },
     "execution_count": 4,
     "metadata": {},
     "output_type": "execute_result"
    }
   ],
   "source": [
    "sequence = [\"A\", \"D\", \"E\", \"B\", \"A\", \"F\", \"C\", \"B\", \"C\", \"D\", \"E\", \"F\"]\n",
    "types = set(sequence)\n",
    "n_types = len(types)\n",
    "n_types"
   ]
  },
  {
   "attachments": {},
   "cell_type": "markdown",
   "metadata": {},
   "source": [
    "## Heuristic\n",
    "- Start to color every vehicle type with color red\n",
    "- Continue to use red as long as possible\n",
    "- Than switch color until every car is painted"
   ]
  },
  {
   "cell_type": "code",
   "execution_count": 5,
   "metadata": {},
   "outputs": [
    {
     "name": "stdout",
     "output_type": "stream",
     "text": [
      "['white', 'white', 'white', 'white', 'black', 'black', 'black', 'black', 'white', 'black', 'black', 'white']\n",
      "Number of changes: 4\n"
     ]
    }
   ],
   "source": [
    "changes = 0\n",
    "colors = {\"white\": set(), \"black\": set()}\n",
    "result = []\n",
    "\n",
    "\n",
    "def paint_car(colors_dict, result_list, color, car_type):\n",
    "    colors_dict[color].add(car_type)\n",
    "    result_list.append(color)\n",
    "\n",
    "\n",
    "current_color = \"white\"\n",
    "for car in sequence:\n",
    "    if car not in colors[current_color]:\n",
    "        paint_car(colors, result, current_color, car)\n",
    "    else:\n",
    "        # change color\n",
    "        changes += 1\n",
    "        if current_color == \"white\":\n",
    "            current_color = \"black\"\n",
    "        else:\n",
    "            current_color = \"white\"\n",
    "        paint_car(colors, result, current_color, car)\n",
    "\n",
    "print(result)\n",
    "print(\"Number of changes:\", changes)"
   ]
  },
  {
   "cell_type": "markdown",
   "metadata": {},
   "source": [
    "## Mathematical Modeling"
   ]
  },
  {
   "cell_type": "code",
   "execution_count": 6,
   "metadata": {},
   "outputs": [
    {
     "name": "stdout",
     "output_type": "stream",
     "text": [
      "--- Warning: The GAMS version (46.4.0) differs from the API version (46.3.0).\n",
      "--- Warning: The GAMS version (46.4.0) differs from the API version (46.3.0).\n",
      "--- Warning: The GAMS version (46.4.0) differs from the API version (46.3.0).\n"
     ]
    }
   ],
   "source": [
    "import gamspy as gp\n",
    "from gamspy.math import sqr\n",
    "\n",
    "# create container\n",
    "m = gp.Container()\n",
    "\n",
    "# create sets\n",
    "i = gp.Set(m, \"i\", description=\"number in sequence\")\n",
    "j = gp.Set(m, \"j\", description=\"car type\")\n",
    "IJ = gp.Set(\n",
    "    m,\n",
    "    \"IJ\",\n",
    "    domain=[i, j],\n",
    "    records=[(i + 1, sequence[i]) for i in range(len(sequence))],\n",
    "    domain_forwarding=True,\n",
    ")\n",
    "\n",
    "# create variables\n",
    "X = m.addVariable(\"X\", domain=[i], type=\"binary\", description=\"color indicator\")"
   ]
  },
  {
   "cell_type": "code",
   "execution_count": 7,
   "metadata": {},
   "outputs": [
    {
     "data": {
      "text/html": [
       "<div>\n",
       "<style scoped>\n",
       "    .dataframe tbody tr th:only-of-type {\n",
       "        vertical-align: middle;\n",
       "    }\n",
       "\n",
       "    .dataframe tbody tr th {\n",
       "        vertical-align: top;\n",
       "    }\n",
       "\n",
       "    .dataframe thead th {\n",
       "        text-align: right;\n",
       "    }\n",
       "</style>\n",
       "<table border=\"1\" class=\"dataframe\">\n",
       "  <thead>\n",
       "    <tr style=\"text-align: right;\">\n",
       "      <th></th>\n",
       "      <th>Solver Status</th>\n",
       "      <th>Model Status</th>\n",
       "      <th>Objective</th>\n",
       "      <th>Num of Equations</th>\n",
       "      <th>Num of Variables</th>\n",
       "      <th>Model Type</th>\n",
       "      <th>Solver</th>\n",
       "      <th>Solver Time</th>\n",
       "    </tr>\n",
       "  </thead>\n",
       "  <tbody>\n",
       "    <tr>\n",
       "      <th>0</th>\n",
       "      <td>Normal</td>\n",
       "      <td>Integer</td>\n",
       "      <td>2</td>\n",
       "      <td>7</td>\n",
       "      <td>13</td>\n",
       "      <td>MINLP</td>\n",
       "      <td>SBB</td>\n",
       "      <td>0.266</td>\n",
       "    </tr>\n",
       "  </tbody>\n",
       "</table>\n",
       "</div>"
      ],
      "text/plain": [
       "  Solver Status Model Status Objective Num of Equations Num of Variables  \\\n",
       "0        Normal      Integer         2                7               13   \n",
       "\n",
       "  Model Type Solver Solver Time  \n",
       "0      MINLP    SBB       0.266  "
      ]
     },
     "execution_count": 7,
     "metadata": {},
     "output_type": "execute_result"
    }
   ],
   "source": [
    "obj = gp.Sum(i, sqr(X[i] - X[i.lead(1)]))\n",
    "\n",
    "equation_two = gp.Equation(container=m, name=\"equation_two\", domain=j, description=\"Ensure that each position i is painted white exactly once.\")\n",
    "equation_two[j] = gp.Sum(IJ[i, j], X[i]) == 1\n",
    "\n",
    "paintshop = gp.Model(\n",
    "    container=m,\n",
    "    name=\"paintshop\",\n",
    "    equations=[equation_two],\n",
    "    problem=\"MINLP\",\n",
    "    sense=gp.Sense.MIN,\n",
    "    objective=obj,\n",
    ")\n",
    "\n",
    "paintshop.solve(solver=\"sbb\")"
   ]
  },
  {
   "cell_type": "code",
   "execution_count": 8,
   "metadata": {},
   "outputs": [
    {
     "data": {
      "text/plain": [
       "2.0"
      ]
     },
     "execution_count": 8,
     "metadata": {},
     "output_type": "execute_result"
    }
   ],
   "source": [
    "opt_changes = paintshop.objective_value\n",
    "opt_changes"
   ]
  },
  {
   "cell_type": "code",
   "execution_count": 9,
   "metadata": {},
   "outputs": [
    {
     "data": {
      "text/plain": [
       "0     0.0\n",
       "1     1.0\n",
       "2     1.0\n",
       "3     1.0\n",
       "4     1.0\n",
       "5     1.0\n",
       "6     1.0\n",
       "7     0.0\n",
       "8     0.0\n",
       "9     0.0\n",
       "10    0.0\n",
       "11    0.0\n",
       "Name: level, dtype: float64"
      ]
     },
     "execution_count": 9,
     "metadata": {},
     "output_type": "execute_result"
    }
   ],
   "source": [
    "X.records[\"level\"]"
   ]
  },
  {
   "attachments": {},
   "cell_type": "markdown",
   "metadata": {},
   "source": [
    "## Compare"
   ]
  },
  {
   "attachments": {},
   "cell_type": "markdown",
   "metadata": {},
   "source": [
    "### Optimization"
   ]
  },
  {
   "cell_type": "code",
   "execution_count": 10,
   "metadata": {},
   "outputs": [
    {
     "name": "stdout",
     "output_type": "stream",
     "text": [
      "Using the optimization approach 2 color changes are needed.\n",
      "The coloring sequence is: \u001b[91mA\u001b[94mD\u001b[94mE\u001b[94mB\u001b[94mA\u001b[94mF\u001b[94mC\u001b[91mB\u001b[91mC\u001b[91mD\u001b[91mE\u001b[91mF\n"
     ]
    }
   ],
   "source": [
    "# '\\033[91m' - red / white\n",
    "# '\\033[94m' - blue / black\n",
    "\n",
    "# define red color\n",
    "if round(X.records[\"level\"][0], 1) == 0:\n",
    "    colors = {0: \"\\033[91m\", 1: \"\\033[94m\"}\n",
    "else:\n",
    "    colors = {1: \"\\033[91m\", 0: \"\\033[94m\"}\n",
    "\n",
    "opt_coloring = []\n",
    "for x in range(len(sequence)):\n",
    "    opt_coloring.append(colors[round(X.records[\"level\"][x], 1)])\n",
    "    opt_coloring.append(sequence[x])\n",
    "\n",
    "print(f\"Using the optimization approach {round(opt_changes)} color changes are needed.\")\n",
    "print(\"The coloring sequence is:\", \"\".join(opt_coloring))"
   ]
  },
  {
   "attachments": {},
   "cell_type": "markdown",
   "metadata": {},
   "source": [
    "### Heuristic"
   ]
  },
  {
   "cell_type": "code",
   "execution_count": 11,
   "metadata": {},
   "outputs": [
    {
     "name": "stdout",
     "output_type": "stream",
     "text": [
      "Using the heuristic approach 4 color changes are needed.\n",
      "The coloring sequence is: \u001b[91mA\u001b[91mD\u001b[91mE\u001b[91mB\u001b[94mA\u001b[94mF\u001b[94mC\u001b[94mB\u001b[91mC\u001b[94mD\u001b[94mE\u001b[91mF\n"
     ]
    }
   ],
   "source": [
    "coloring = []\n",
    "for x in range(len(sequence)):\n",
    "    if result[x] == \"white\":\n",
    "        c = \"\\033[91m\"\n",
    "    else:\n",
    "        c = \"\\033[94m\"\n",
    "    coloring.append(c)\n",
    "    coloring.append(sequence[x])\n",
    "print(f\"Using the heuristic approach {changes} color changes are needed.\")\n",
    "print(\"The coloring sequence is:\", \"\".join(coloring))"
   ]
  },
  {
   "attachments": {},
   "cell_type": "markdown",
   "metadata": {},
   "source": [
    "## Transfer to the Real World - Multi Vehicle Paintshop Problem\n",
    "The presented problem is a very easy and simplified version of the real problem where a given number of vehicles of different type arrive at a given sequence at the paint shop and a given share of each vehicle type has to be painted black and the rest white. However, the simplified version gives us a slight impression of how powerful mathematical optimization is. \n",
    "Solving the real (multi vehicle paint shop problem) is a more complicated version of the presented (binary paint shop problem).  "
   ]
  },
  {
   "attachments": {},
   "cell_type": "markdown",
   "metadata": {},
   "source": [
    "## Data"
   ]
  },
  {
   "cell_type": "code",
   "execution_count": 12,
   "metadata": {},
   "outputs": [
    {
     "data": {
      "text/plain": [
       "{'E': 16, 'F': 4, 'B': 15, 'C': 2, 'D': 3, 'A': 10}"
      ]
     },
     "execution_count": 12,
     "metadata": {},
     "output_type": "execute_result"
    }
   ],
   "source": [
    "sequence = random.choices(list(types), k=128)\n",
    "demand_white = {t: random.randint(0, sequence.count(t)) for t in types}\n",
    "demand_black = {t: sequence.count(t) - demand_white[t] for t in types}\n",
    "demand_white"
   ]
  },
  {
   "cell_type": "markdown",
   "metadata": {},
   "source": [
    "## Heuristic"
   ]
  },
  {
   "cell_type": "code",
   "execution_count": 13,
   "metadata": {},
   "outputs": [
    {
     "name": "stdout",
     "output_type": "stream",
     "text": [
      "['white', 'white', 'white', 'white', 'white', 'white', 'white', 'white', 'white', 'white', 'white', 'white', 'white', 'white', 'white', 'white', 'white', 'white', 'white', 'black', 'black', 'black', 'black', 'black', 'black', 'black', 'black', 'black', 'black', 'black', 'black', 'black', 'black', 'black', 'black', 'black', 'black', 'black', 'black', 'black', 'black', 'black', 'black', 'black', 'black', 'black', 'black', 'black', 'black', 'black', 'black', 'black', 'black', 'black', 'black', 'black', 'black', 'black', 'black', 'black', 'black', 'black', 'black', 'black', 'black', 'black', 'black', 'black', 'black', 'black', 'black', 'black', 'black', 'black', 'black', 'white', 'black', 'white', 'black', 'white', 'black', 'black', 'black', 'white', 'black', 'white', 'white', 'white', 'white', 'white', 'white', 'black', 'white', 'white', 'white', 'black', 'black', 'white', 'black', 'white', 'black', 'white', 'white', 'white', 'white', 'white', 'black', 'white', 'white', 'white', 'black', 'black', 'black', 'black', 'white', 'black', 'white', 'white', 'black', 'black', 'white', 'white', 'white', 'black', 'white', 'black', 'white', 'black']\n",
      "Number of changes: 31\n"
     ]
    }
   ],
   "source": [
    "changes = 0\n",
    "colors = {\"white\": dict(demand_white), \"black\": dict(demand_black)}\n",
    "result = []\n",
    "\n",
    "\n",
    "def paint_car(colors_dict, result_list, color, car_type):\n",
    "    colors_dict[color][car_type] -= 1\n",
    "    result_list.append(color)\n",
    "\n",
    "\n",
    "current_color = \"white\"\n",
    "for car in sequence:\n",
    "    if colors[current_color][car] > 0:\n",
    "        paint_car(colors, result, current_color, car)\n",
    "    else:\n",
    "        # change color\n",
    "        changes += 1\n",
    "        if current_color == \"white\":\n",
    "            current_color = \"black\"\n",
    "        else:\n",
    "            current_color = \"white\"\n",
    "        paint_car(colors, result, current_color, car)\n",
    "\n",
    "print(result)\n",
    "print(\"Number of changes:\", changes)"
   ]
  },
  {
   "attachments": {},
   "cell_type": "markdown",
   "metadata": {},
   "source": [
    "## Model"
   ]
  },
  {
   "cell_type": "code",
   "execution_count": 14,
   "metadata": {},
   "outputs": [],
   "source": [
    "IJ.setRecords([(i + 1, sequence[i]) for i in range(len(sequence))])\n",
    "\n",
    "# create parameters\n",
    "white_demand = gp.Parameter(\n",
    "    m,\n",
    "    \"white_demand\",\n",
    "    domain=[j],\n",
    "    records=[(type, demand) for type, demand in demand_white.items()],\n",
    ")\n",
    "black_demand = gp.Parameter(\n",
    "    m,\n",
    "    \"black_demand\",\n",
    "    domain=[j],\n",
    "    records=[(type, demand) for type, demand in demand_black.items()],\n",
    ")\n",
    "\n",
    "Z = gp.Variable(m, \"Z\", type='binary', domain=i, description='Indicates a color change from i to i+1')"
   ]
  },
  {
   "cell_type": "markdown",
   "metadata": {},
   "source": [
    "Note that the following notation is a linearization of $(X_i - X_{i+1})^2$"
   ]
  },
  {
   "cell_type": "code",
   "execution_count": 15,
   "metadata": {},
   "outputs": [
    {
     "data": {
      "text/html": [
       "<div>\n",
       "<style scoped>\n",
       "    .dataframe tbody tr th:only-of-type {\n",
       "        vertical-align: middle;\n",
       "    }\n",
       "\n",
       "    .dataframe tbody tr th {\n",
       "        vertical-align: top;\n",
       "    }\n",
       "\n",
       "    .dataframe thead th {\n",
       "        text-align: right;\n",
       "    }\n",
       "</style>\n",
       "<table border=\"1\" class=\"dataframe\">\n",
       "  <thead>\n",
       "    <tr style=\"text-align: right;\">\n",
       "      <th></th>\n",
       "      <th>Solver Status</th>\n",
       "      <th>Model Status</th>\n",
       "      <th>Objective</th>\n",
       "      <th>Num of Equations</th>\n",
       "      <th>Num of Variables</th>\n",
       "      <th>Model Type</th>\n",
       "      <th>Solver</th>\n",
       "      <th>Solver Time</th>\n",
       "    </tr>\n",
       "  </thead>\n",
       "  <tbody>\n",
       "    <tr>\n",
       "      <th>0</th>\n",
       "      <td>Normal</td>\n",
       "      <td>OptimalGlobal</td>\n",
       "      <td>11</td>\n",
       "      <td>269</td>\n",
       "      <td>257</td>\n",
       "      <td>MIP</td>\n",
       "      <td>CPLEX</td>\n",
       "      <td>0.093</td>\n",
       "    </tr>\n",
       "  </tbody>\n",
       "</table>\n",
       "</div>"
      ],
      "text/plain": [
       "  Solver Status   Model Status Objective Num of Equations Num of Variables  \\\n",
       "0        Normal  OptimalGlobal        11              269              257   \n",
       "\n",
       "  Model Type Solver Solver Time  \n",
       "0        MIP  CPLEX       0.093  "
      ]
     },
     "execution_count": 15,
     "metadata": {},
     "output_type": "execute_result"
    }
   ],
   "source": [
    "LinearizeObjective1 = gp.Equation(m, \"LinearizeObjective1\", domain=i)\n",
    "LinearizeObjective1[i] = Z[i] >= X[i] - X[i.lead(1)]\n",
    "\n",
    "LinearizeObjective2 = gp.Equation(m, \"LinearizeObjective2\", domain=i)\n",
    "LinearizeObjective2[i] = Z[i] >= X[i.lead(1)] - X[i]\n",
    "\n",
    "MeetBlackDemand = gp.Equation(m, \"MeetBlackDemand\", domain=j)\n",
    "MeetBlackDemand[j] = gp.Sum(IJ[i, j], X[i]) == black_demand[j]\n",
    "\n",
    "MeetWhiteDemand = gp.Equation(m, \"MeetWhiteDemand\", domain=j)\n",
    "MeetWhiteDemand[j] = gp.Sum(IJ[i, j], 1 - X[i]) == white_demand[j]\n",
    "\n",
    "multi_paintshop = gp.Model(\n",
    "    m,\n",
    "    \"MultiPaintshop\",\n",
    "    equations=[LinearizeObjective1, LinearizeObjective2, MeetWhiteDemand, MeetBlackDemand],\n",
    "    problem=\"MIP\",\n",
    "    sense=gp.Sense.MIN,\n",
    "    objective=gp.Sum(i, Z[i]),\n",
    ")\n",
    "\n",
    "multi_paintshop.solve(solver=\"cplex\")"
   ]
  },
  {
   "cell_type": "code",
   "execution_count": 16,
   "metadata": {},
   "outputs": [
    {
     "data": {
      "text/plain": [
       "11.0"
      ]
     },
     "execution_count": 16,
     "metadata": {},
     "output_type": "execute_result"
    }
   ],
   "source": [
    "opt_changes = multi_paintshop.objective_value\n",
    "opt_changes"
   ]
  },
  {
   "attachments": {},
   "cell_type": "markdown",
   "metadata": {},
   "source": [
    "## Compare"
   ]
  },
  {
   "attachments": {},
   "cell_type": "markdown",
   "metadata": {},
   "source": [
    "### Mathematical Model"
   ]
  },
  {
   "cell_type": "code",
   "execution_count": 17,
   "metadata": {},
   "outputs": [
    {
     "name": "stdout",
     "output_type": "stream",
     "text": [
      "Using the optimization approach 11 color changes are needed.\n",
      "The coloring sequence is: \u001b[91mB\u001b[91mB\u001b[91mB\u001b[91mB\u001b[91mB\u001b[94mC\u001b[94mF\u001b[94mC\u001b[94mE\u001b[94mF\u001b[94mB\u001b[94mE\u001b[94mD\u001b[94mF\u001b[94mD\u001b[94mA\u001b[94mF\u001b[94mA\u001b[94mD\u001b[94mD\u001b[94mE\u001b[94mB\u001b[94mC\u001b[94mF\u001b[94mF\u001b[94mF\u001b[94mF\u001b[94mD\u001b[94mB\u001b[94mB\u001b[94mC\u001b[94mA\u001b[94mF\u001b[94mE\u001b[94mA\u001b[94mD\u001b[94mD\u001b[94mC\u001b[94mF\u001b[94mE\u001b[94mF\u001b[94mB\u001b[94mE\u001b[94mD\u001b[94mD\u001b[91mE\u001b[91mA\u001b[91mB\u001b[91mA\u001b[91mB\u001b[94mD\u001b[94mB\u001b[94mC\u001b[94mB\u001b[94mE\u001b[94mE\u001b[94mF\u001b[91mB\u001b[94mB\u001b[94mC\u001b[94mC\u001b[94mB\u001b[94mF\u001b[94mC\u001b[94mA\u001b[94mD\u001b[94mC\u001b[94mD\u001b[94mF\u001b[91mE\u001b[91mE\u001b[91mE\u001b[91mE\u001b[91mC\u001b[91mA\u001b[91mE\u001b[91mD\u001b[91mA\u001b[94mD\u001b[94mE\u001b[94mC\u001b[94mF\u001b[94mF\u001b[94mE\u001b[94mC\u001b[91mA\u001b[91mE\u001b[91mE\u001b[91mB\u001b[91mE\u001b[91mB\u001b[91mD\u001b[91mB\u001b[91mE\u001b[91mE\u001b[91mF\u001b[91mD\u001b[91mA\u001b[91mC\u001b[91mE\u001b[91mF\u001b[91mB\u001b[91mE\u001b[91mE\u001b[91mB\u001b[91mA\u001b[91mF\u001b[91mA\u001b[91mA\u001b[91mB\u001b[94mF\u001b[94mF\u001b[94mD\u001b[94mD\u001b[94mA\u001b[94mF\u001b[94mB\u001b[94mE\u001b[94mF\u001b[94mF\u001b[91mE\u001b[91mE\u001b[91mA\u001b[91mF\u001b[91mB\u001b[94mC\u001b[94mB\u001b[94mC\n"
     ]
    }
   ],
   "source": [
    "# '\\033[91m' - red\n",
    "# '\\033[94m' - blue\n",
    "colors = {1: \"\\033[91m\", 0: \"\\033[94m\"}\n",
    "\n",
    "opt_coloring = []\n",
    "for x in range(len(sequence)):\n",
    "    opt_coloring.append(colors[round(X.records[\"level\"][x], 1)])\n",
    "    opt_coloring.append(sequence[x])\n",
    "\n",
    "print(f\"Using the optimization approach {round(opt_changes)} color changes are needed.\")\n",
    "print(\"The coloring sequence is:\", \"\".join(opt_coloring))"
   ]
  },
  {
   "attachments": {},
   "cell_type": "markdown",
   "metadata": {},
   "source": [
    "### Heuristic"
   ]
  },
  {
   "cell_type": "code",
   "execution_count": 18,
   "metadata": {},
   "outputs": [
    {
     "name": "stdout",
     "output_type": "stream",
     "text": [
      "Using the heuristic approach 31 color changes are needed.\n",
      "The coloring sequence is: \u001b[91mB\u001b[91mB\u001b[91mB\u001b[91mB\u001b[91mB\u001b[91mC\u001b[91mF\u001b[91mC\u001b[91mE\u001b[91mF\u001b[91mB\u001b[91mE\u001b[91mD\u001b[91mF\u001b[91mD\u001b[91mA\u001b[91mF\u001b[91mA\u001b[91mD\u001b[94mD\u001b[94mE\u001b[94mB\u001b[94mC\u001b[94mF\u001b[94mF\u001b[94mF\u001b[94mF\u001b[94mD\u001b[94mB\u001b[94mB\u001b[94mC\u001b[94mA\u001b[94mF\u001b[94mE\u001b[94mA\u001b[94mD\u001b[94mD\u001b[94mC\u001b[94mF\u001b[94mE\u001b[94mF\u001b[94mB\u001b[94mE\u001b[94mD\u001b[94mD\u001b[94mE\u001b[94mA\u001b[94mB\u001b[94mA\u001b[94mB\u001b[94mD\u001b[94mB\u001b[94mC\u001b[94mB\u001b[94mE\u001b[94mE\u001b[94mF\u001b[94mB\u001b[94mB\u001b[94mC\u001b[94mC\u001b[94mB\u001b[94mF\u001b[94mC\u001b[94mA\u001b[94mD\u001b[94mC\u001b[94mD\u001b[94mF\u001b[94mE\u001b[94mE\u001b[94mE\u001b[94mE\u001b[94mC\u001b[94mA\u001b[91mE\u001b[94mD\u001b[91mA\u001b[94mD\u001b[91mE\u001b[94mC\u001b[94mF\u001b[94mF\u001b[91mE\u001b[94mC\u001b[91mA\u001b[91mE\u001b[91mE\u001b[91mB\u001b[91mE\u001b[91mB\u001b[94mD\u001b[91mB\u001b[91mE\u001b[91mE\u001b[94mF\u001b[94mD\u001b[91mA\u001b[94mC\u001b[91mE\u001b[94mF\u001b[91mB\u001b[91mE\u001b[91mE\u001b[91mB\u001b[91mA\u001b[94mF\u001b[91mA\u001b[91mA\u001b[91mB\u001b[94mF\u001b[94mF\u001b[94mD\u001b[94mD\u001b[91mA\u001b[94mF\u001b[91mB\u001b[91mE\u001b[94mF\u001b[94mF\u001b[91mE\u001b[91mE\u001b[91mA\u001b[94mF\u001b[91mB\u001b[94mC\u001b[91mB\u001b[94mC\n"
     ]
    }
   ],
   "source": [
    "coloring = []\n",
    "for x in range(len(sequence)):\n",
    "    if result[x] == \"white\":\n",
    "        c = \"\\033[91m\"\n",
    "    else:\n",
    "        c = \"\\033[94m\"\n",
    "    coloring.append(c)\n",
    "\n",
    "    coloring.append(sequence[x])\n",
    "print(f\"Using the heuristic approach {changes} color changes are needed.\")\n",
    "print(\"The coloring sequence is:\", \"\".join(coloring))"
   ]
  }
 ],
 "metadata": {
  "kernelspec": {
   "display_name": "gams",
   "language": "python",
   "name": "python3"
  },
  "language_info": {
   "codemirror_mode": {
    "name": "ipython",
    "version": 3
   },
   "file_extension": ".py",
   "mimetype": "text/x-python",
   "name": "python",
   "nbconvert_exporter": "python",
   "pygments_lexer": "ipython3",
   "version": "3.11.5"
  },
  "orig_nbformat": 4
 },
 "nbformat": 4,
 "nbformat_minor": 2
}
